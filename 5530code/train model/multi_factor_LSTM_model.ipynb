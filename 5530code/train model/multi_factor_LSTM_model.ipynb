{
 "cells": [
  {
   "cell_type": "markdown",
   "metadata": {},
   "source": [
    "# 获取数据\n",
    "\n",
    "## 源数据\n",
    "price: https://studio.glassnode.com/metrics?a=ETH&category=&ema=0&m=market.PriceUsdOhlc&mAvg=0&mMedian=0&s=1488326400&u=1709222399&zoom=\n",
    "\n",
    "nvt ratio: https://studio.glassnode.com/metrics?a=ETH&category=&ema=0&m=indicators.Nvt&mAvg=0&mMedian=0&s=1488326400&u=1709222399&zoom=\n",
    "\n",
    "## 训练集&测试集：\n",
    "\n",
    "2017.3.1 - 2023.2.28\n",
    "\n",
    "## 回测：\n",
    "\n",
    "2023.3.1 - 2024.2.29"
   ]
  },
  {
   "cell_type": "code",
   "execution_count": 1,
   "metadata": {},
   "outputs": [],
   "source": [
    "from sklearn.preprocessing import MinMaxScaler"
   ]
  }
 ],
 "metadata": {
  "kernelspec": {
   "display_name": "Python 3",
   "language": "python",
   "name": "python3"
  },
  "language_info": {
   "codemirror_mode": {
    "name": "ipython",
    "version": 3
   },
   "file_extension": ".py",
   "mimetype": "text/x-python",
   "name": "python",
   "nbconvert_exporter": "python",
   "pygments_lexer": "ipython3",
   "version": "3.10.13"
  }
 },
 "nbformat": 4,
 "nbformat_minor": 2
}
